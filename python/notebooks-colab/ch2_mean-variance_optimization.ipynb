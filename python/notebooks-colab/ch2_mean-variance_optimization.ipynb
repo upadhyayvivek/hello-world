{
  "cells": [
    {
      "cell_type": "markdown",
      "metadata": {
        "id": "9QdIgJJSi0ty"
      },
      "source": [
        "LaTeX macros (hidden cell)\n",
        "$\n",
        "\\newcommand{\\Q}{\\mathcal{Q}}\n",
        "\\newcommand{\\ECov}{\\boldsymbol{\\Sigma}}\n",
        "\\newcommand{\\EMean}{\\boldsymbol{\\mu}}\n",
        "\\newcommand{\\EAlpha}{\\boldsymbol{\\alpha}}\n",
        "\\newcommand{\\EBeta}{\\boldsymbol{\\beta}}\n",
        "$"
      ]
    },
    {
      "cell_type": "markdown",
      "metadata": {
        "id": "XcKZMTdWi0t2"
      },
      "source": [
        "# Imports and configuration"
      ]
    },
    {
      "cell_type": "code",
      "execution_count": 1,
      "metadata": {
        "scrolled": true,
        "id": "fpKZAS9Wi0t3",
        "outputId": "fbc98bc3-b206-4620-f6eb-71b9ff70df2d",
        "colab": {
          "base_uri": "https://localhost:8080/"
        }
      },
      "outputs": [
        {
          "output_type": "stream",
          "name": "stderr",
          "text": [
            "--2025-03-12 15:15:12--  https://raw.githubusercontent.com/MOSEK/PortfolioOptimization/main/python/notebooks/portfolio_tools.py\n",
            "Resolving raw.githubusercontent.com (raw.githubusercontent.com)... 185.199.108.133, 185.199.110.133, 185.199.109.133, ...\n",
            "Connecting to raw.githubusercontent.com (raw.githubusercontent.com)|185.199.108.133|:443... connected.\n",
            "HTTP request sent, awaiting response... 200 OK\n",
            "Length: 7292 (7.1K) [text/plain]\n",
            "Saving to: ‘portfolio_tools.py’\n",
            "\n",
            "     0K .......                                               100% 40.6M=0s\n",
            "\n",
            "2025-03-12 15:15:13 (40.6 MB/s) - ‘portfolio_tools.py’ saved [7292/7292]\n",
            "\n"
          ]
        }
      ],
      "source": [
        "%%bash\n",
        "FILE=/content/portfolio_tools.py\n",
        "if [[ ! -f $FILE ]]; then\n",
        "    wget https://raw.githubusercontent.com/MOSEK/PortfolioOptimization/main/python/notebooks/portfolio_tools.py\n",
        "fi"
      ]
    },
    {
      "cell_type": "code",
      "execution_count": 2,
      "metadata": {
        "id": "Jb_5Jhnci0t4",
        "outputId": "891e8fc7-a211-47c1-ed0f-4821252c859f",
        "colab": {
          "base_uri": "https://localhost:8080/"
        }
      },
      "outputs": [
        {
          "output_type": "stream",
          "name": "stdout",
          "text": [
            "Collecting mosek\n",
            "  Downloading Mosek-11.0.11-cp39-abi3-manylinux2014_x86_64.whl.metadata (698 bytes)\n",
            "Requirement already satisfied: numpy in /usr/local/lib/python3.11/dist-packages (from mosek) (1.26.4)\n",
            "Downloading Mosek-11.0.11-cp39-abi3-manylinux2014_x86_64.whl (14.7 MB)\n",
            "\u001b[2K   \u001b[90m━━━━━━━━━━━━━━━━━━━━━━━━━━━━━━━━━━━━━━━━\u001b[0m \u001b[32m14.7/14.7 MB\u001b[0m \u001b[31m14.5 MB/s\u001b[0m eta \u001b[36m0:00:00\u001b[0m\n",
            "\u001b[?25hInstalling collected packages: mosek\n",
            "Successfully installed mosek-11.0.11\n",
            "env: PYTHONPATH=/env/python:/content\n",
            "env: MOSEKLM_LICENSE_FILE=/content/mosek.lic:/root/mosek/mosek.lic\n"
          ]
        }
      ],
      "source": [
        "%pip install mosek\n",
        "%env PYTHONPATH /env/python:/content\n",
        "%env MOSEKLM_LICENSE_FILE /content/mosek.lic:/root/mosek/mosek.lic\n",
        "\n",
        "# To execute the notebook directly in colab make sure your MOSEK license file is in one the locations\n",
        "#\n",
        "# /content/mosek.lic   or   /root/mosek/mosek.lic\n",
        "#\n",
        "# inside this notebook's internal filesystem.\n",
        "#\n",
        "# You will also need an API key from a stock data provider, or ready data files in a \"stock_data\" folder."
      ]
    },
    {
      "cell_type": "code",
      "source": [
        "% MOSEKLM_LICENSE_FILE C:\\Users\\vivek\\mosek\\mosek.lic"
      ],
      "metadata": {
        "id": "f0uYMCYa77Nt",
        "outputId": "13451d65-3124-40d8-e864-c918d57d1244",
        "colab": {
          "base_uri": "https://localhost:8080/"
        }
      },
      "execution_count": 10,
      "outputs": [
        {
          "output_type": "stream",
          "name": "stderr",
          "text": [
            "UsageError: Line magic function `%` not found.\n"
          ]
        }
      ]
    },
    {
      "cell_type": "code",
      "source": [
        "print (sys.path)"
      ],
      "metadata": {
        "id": "CM5LS61j9Zv7",
        "outputId": "20168914-6e32-4496-a057-469da6e7c8f0",
        "colab": {
          "base_uri": "https://localhost:8080/"
        }
      },
      "execution_count": 11,
      "outputs": [
        {
          "output_type": "stream",
          "name": "stdout",
          "text": [
            "['/content', '/env/python', '/usr/lib/python311.zip', '/usr/lib/python3.11', '/usr/lib/python3.11/lib-dynload', '', '/usr/local/lib/python3.11/dist-packages', '/usr/lib/python3/dist-packages', '/usr/local/lib/python3.11/dist-packages/IPython/extensions', '/root/.ipython']\n"
          ]
        }
      ]
    },
    {
      "cell_type": "code",
      "execution_count": 3,
      "metadata": {
        "scrolled": false,
        "id": "S8dbaNvQi0t4"
      },
      "outputs": [],
      "source": [
        "import sys\n",
        "import os\n",
        "import re\n",
        "import glob\n",
        "import datetime as dt\n",
        "\n",
        "import numpy as np\n",
        "import pandas as pd\n",
        "%matplotlib inline\n",
        "import matplotlib\n",
        "import matplotlib.pyplot as plt\n",
        "from matplotlib.colors import LinearSegmentedColormap\n",
        "\n",
        "from mosek.fusion import *\n",
        "import mosek.fusion.pythonic    # From Mosek >= 10.2\n",
        "\n",
        "from notebook.services.config import ConfigManager\n",
        "\n",
        "# portfolio_tools.py is a Mosek helper file distributed together with the notebooks\n",
        "from portfolio_tools import data_download, DataReader"
      ]
    },
    {
      "cell_type": "code",
      "execution_count": 5,
      "metadata": {
        "id": "gKcoP-vhi0t5",
        "outputId": "f439e176-de7c-450f-9be0-5452c0ebf899",
        "colab": {
          "base_uri": "https://localhost:8080/"
        }
      },
      "outputs": [
        {
          "output_type": "stream",
          "name": "stdout",
          "text": [
            "3.11.11 (main, Dec  4 2024, 08:55:07) [GCC 11.4.0]\n",
            "matplotlib: 3.10.0\n"
          ]
        }
      ],
      "source": [
        "# Version checks\n",
        "print(sys.version)\n",
        "print('matplotlib: {}'.format(matplotlib.__version__))\n",
        "\n",
        "# Jupyter configuration\n",
        "c = ConfigManager()\n",
        "c.update('notebook', {\"CodeCell\": {\"cm_config\": {\"autoCloseBrackets\": False}}})\n",
        "\n",
        "# Numpy options\n",
        "np.set_printoptions(precision=5, linewidth=120, suppress=True)\n",
        "\n",
        "# Pandas options\n",
        "pd.set_option('display.max_rows', None)\n",
        "\n",
        "# Matplotlib options\n",
        "plt.rcParams['figure.figsize'] = [12, 8]\n",
        "plt.rcParams['figure.dpi'] = 200"
      ]
    },
    {
      "cell_type": "markdown",
      "metadata": {
        "id": "ZxmjrzyJi0t5"
      },
      "source": [
        "# Prepare input data"
      ]
    },
    {
      "cell_type": "markdown",
      "metadata": {
        "id": "iKHF_WBJi0t6"
      },
      "source": [
        "In this example, the input data is given. It consists of the vector $\\EMean$ of expected returns, and the covariance matrix $\\ECov$."
      ]
    },
    {
      "cell_type": "code",
      "execution_count": 4,
      "metadata": {
        "id": "gTO9BB7Di0t6"
      },
      "outputs": [],
      "source": [
        "# Linear return statistics on the investment horizon\n",
        "mu = np.array([0.07197349, 0.15518171, 0.17535435, 0.0898094 , 0.42895777, 0.39291844, 0.32170722, 0.18378628])\n",
        "Sigma = np.array([\n",
        "        [0.09460323, 0.03735969, 0.03488376, 0.03483838, 0.05420885, 0.03682539, 0.03209623, 0.03271886],\n",
        "        [0.03735969, 0.07746293, 0.03868215, 0.03670678, 0.03816653, 0.03634422, 0.0356449 , 0.03422235],\n",
        "        [0.03488376, 0.03868215, 0.06241065, 0.03364444, 0.03949475, 0.03690811, 0.03383847, 0.02433733],\n",
        "        [0.03483838, 0.03670678, 0.03364444, 0.06824955, 0.04017978, 0.03348263, 0.04360484, 0.03713009],\n",
        "        [0.05420885, 0.03816653, 0.03949475, 0.04017978, 0.17243352, 0.07886889, 0.06999607, 0.05010711],\n",
        "        [0.03682539, 0.03634422, 0.03690811, 0.03348263, 0.07886889, 0.09093307, 0.05364518, 0.04489357],\n",
        "        [0.03209623, 0.0356449 , 0.03383847, 0.04360484, 0.06999607, 0.05364518, 0.09649728, 0.04419974],\n",
        "        [0.03271886, 0.03422235, 0.02433733, 0.03713009, 0.05010711, 0.04489357, 0.04419974, 0.08159633]\n",
        "      ])"
      ]
    },
    {
      "cell_type": "markdown",
      "metadata": {
        "id": "LyCTCEx0i0t6"
      },
      "source": [
        "# Define the optimization model"
      ]
    },
    {
      "cell_type": "markdown",
      "metadata": {
        "id": "bqEjBpt8i0t7"
      },
      "source": [
        "The optimization problem we would like to solve is\n",
        "$$\n",
        "    \\begin{array}{lrcl}\n",
        "    \\mbox{maximize}     & \\EMean^\\mathsf{T}\\mathbf{x}       &          &\\\\\n",
        "    \\mbox{subject to}   & \\left(\\gamma^2, \\frac{1}{2}, \\mathbf{G}^\\mathsf{T}\\mathbf{x}\\right)      & \\in      & \\Q_\\mathrm{r}^{N+2},\\\\\n",
        "                        & \\mathbf{1}^\\mathsf{T}\\mathbf{x}                & =        & 1,\\\\\n",
        "                        & \\mathbf{x}                                     & \\geq     & 0.\\\\\n",
        "    \\end{array}\n",
        "$$\n",
        "\n",
        "Here we define this model in MOSEK Fusion."
      ]
    },
    {
      "cell_type": "code",
      "execution_count": 5,
      "metadata": {
        "id": "W9PcQNu7i0t7"
      },
      "outputs": [],
      "source": [
        "# Define function solving the optimization model\n",
        "def Markowitz(N, m, G, gamma2):\n",
        "    with Model(\"markowitz\") as M:\n",
        "        # Settings\n",
        "        M.setLogHandler(sys.stdout)\n",
        "\n",
        "        # Decision variable (fraction of holdings in each security)\n",
        "        # The variable x is restricted to be positive, which imposes the constraint of no short-selling.\n",
        "        x = M.variable(\"x\", N, Domain.greaterThan(0.0))\n",
        "\n",
        "        # Budget constraint\n",
        "        M.constraint('budget', Expr.sum(x) == 1)\n",
        "\n",
        "        # Objective\n",
        "        M.objective('obj', ObjectiveSense.Maximize, x.T @ m)\n",
        "\n",
        "        # Imposes a bound on the risk\n",
        "        M.constraint('risk', Expr.vstack(gamma2, 0.5, G.T @ x), Domain.inRotatedQCone())\n",
        "\n",
        "        # Solve optimization\n",
        "        M.solve()\n",
        "\n",
        "        # Check if the solution is an optimal point\n",
        "        solsta = M.getPrimalSolutionStatus()\n",
        "        if (solsta != SolutionStatus.Optimal):\n",
        "            # See https://docs.mosek.com/latest/pythonfusion/accessing-solution.html about handling solution statuses.\n",
        "            raise Exception(\"Unexpected solution status!\")\n",
        "\n",
        "        returns = M.primalObjValue()\n",
        "        portfolio = x.level()\n",
        "\n",
        "    return returns, portfolio"
      ]
    },
    {
      "cell_type": "markdown",
      "metadata": {
        "id": "EoCRidZJi0t7"
      },
      "source": [
        "# Run the optimization"
      ]
    },
    {
      "cell_type": "markdown",
      "metadata": {
        "id": "3YNhTeECi0t7"
      },
      "source": [
        "## Define the parameters"
      ]
    },
    {
      "cell_type": "markdown",
      "metadata": {
        "id": "zHASsOT3i0t7"
      },
      "source": [
        "The problem parameters are the number of securities $N$ and the risk limit $\\gamma^2$."
      ]
    },
    {
      "cell_type": "code",
      "execution_count": 6,
      "metadata": {
        "id": "e6mNkBSui0t7"
      },
      "outputs": [],
      "source": [
        "N = mu.shape[0]  # Number of securities\n",
        "gamma2 = 0.05   # Risk limit (variance)"
      ]
    },
    {
      "cell_type": "markdown",
      "metadata": {
        "id": "cnISFocCi0t8"
      },
      "source": [
        "## Factorize the covariance matrix"
      ]
    },
    {
      "cell_type": "markdown",
      "metadata": {
        "id": "-u6p4C35i0t8"
      },
      "source": [
        "Here we factorize $\\ECov$ because the model is defined in conic form, and it expects a matrix $G$ such that $\\ECov = GG^\\mathsf{T}$."
      ]
    },
    {
      "cell_type": "code",
      "execution_count": 7,
      "metadata": {
        "id": "miGId1dzi0t8"
      },
      "outputs": [],
      "source": [
        "G = np.linalg.cholesky(Sigma)  # Cholesky factor of S to use in conic risk constraint"
      ]
    },
    {
      "cell_type": "code",
      "source": [
        "print(sys.path)"
      ],
      "metadata": {
        "id": "KRzDRGCT7dxE",
        "outputId": "e2676c20-7825-4c76-99d5-206c6ed30691",
        "colab": {
          "base_uri": "https://localhost:8080/"
        }
      },
      "execution_count": 9,
      "outputs": [
        {
          "output_type": "stream",
          "name": "stdout",
          "text": [
            "['/content', '/env/python', '/usr/lib/python311.zip', '/usr/lib/python3.11', '/usr/lib/python3.11/lib-dynload', '', '/usr/local/lib/python3.11/dist-packages', '/usr/lib/python3/dist-packages', '/usr/local/lib/python3.11/dist-packages/IPython/extensions', '/root/.ipython']\n"
          ]
        }
      ]
    },
    {
      "cell_type": "markdown",
      "metadata": {
        "id": "ek57MXPOi0t8"
      },
      "source": [
        "## Solve the optimization problem"
      ]
    },
    {
      "cell_type": "markdown",
      "metadata": {
        "id": "9VO9V-SCi0t8"
      },
      "source": [
        "Next we call the function that defines the Fusion model and runs the optimization."
      ]
    },
    {
      "cell_type": "code",
      "execution_count": 8,
      "metadata": {
        "scrolled": false,
        "id": "_u8MbL67i0t8",
        "outputId": "cc61ec2c-a29a-4ff4-93ae-701fdc3b1852",
        "colab": {
          "base_uri": "https://localhost:8080/",
          "height": 564
        }
      },
      "outputs": [
        {
          "output_type": "stream",
          "name": "stdout",
          "text": [
            "MOSEK error 1008 (MSK_RES_ERR_MISSING_LICENSE_FILE): License cannot be located. The default search path is ':/content/mosek.lic:/root/mosek/mosek.lic:'.\n",
            "\n",
            "*** A FLEXlm error occurred. FLEXlm reported:\n",
            "\n",
            "\n",
            "\n",
            "*** end of FLEXlm report.\n",
            "\n"
          ]
        },
        {
          "output_type": "error",
          "ename": "OptimizeError",
          "evalue": "rescode.err_missing_license_file(1008): License cannot be located. The default search path is ':/content/mosek.lic:/root/mosek/mosek.lic:'.\n",
          "traceback": [
            "\u001b[0;31m---------------------------------------------------------------------------\u001b[0m",
            "\u001b[0;31mError\u001b[0m                                     Traceback (most recent call last)",
            "\u001b[0;32m/usr/local/lib/python3.11/dist-packages/mosek/fusion/impl/_implementation.py\u001b[0m in \u001b[0;36m_task_1solve_ZSS\u001b[0;34m(self, remote, server, port)\u001b[0m\n\u001b[1;32m   5500\u001b[0m           \u001b[0;32melse\u001b[0m\u001b[0;34m:\u001b[0m\u001b[0;34m\u001b[0m\u001b[0;34m\u001b[0m\u001b[0m\n\u001b[0;32m-> 5501\u001b[0;31m             \u001b[0mtrmcode\u001b[0m \u001b[0;34m=\u001b[0m \u001b[0mtask\u001b[0m\u001b[0;34m.\u001b[0m\u001b[0moptimize\u001b[0m\u001b[0;34m(\u001b[0m\u001b[0;34m)\u001b[0m\u001b[0;34m\u001b[0m\u001b[0;34m\u001b[0m\u001b[0m\n\u001b[0m\u001b[1;32m   5502\u001b[0m           \u001b[0mtask\u001b[0m\u001b[0;34m.\u001b[0m\u001b[0msolutionsummary\u001b[0m\u001b[0;34m(\u001b[0m\u001b[0mmosek\u001b[0m\u001b[0;34m.\u001b[0m\u001b[0mstreamtype\u001b[0m\u001b[0;34m.\u001b[0m\u001b[0mlog\u001b[0m\u001b[0;34m)\u001b[0m\u001b[0;34m\u001b[0m\u001b[0;34m\u001b[0m\u001b[0m\n",
            "\u001b[0;32m/usr/local/lib/python3.11/dist-packages/mosek/__init__.py\u001b[0m in \u001b[0;36moptimize\u001b[0;34m(self, *args, **kwds)\u001b[0m\n\u001b[1;32m  11415\u001b[0m       \"\"\"\n\u001b[0;32m> 11416\u001b[0;31m       \u001b[0;32mreturn\u001b[0m \u001b[0mself\u001b[0m\u001b[0;34m.\u001b[0m\u001b[0m__optimizetrm__1\u001b[0m\u001b[0;34m(\u001b[0m\u001b[0;34m*\u001b[0m\u001b[0margs\u001b[0m\u001b[0;34m,\u001b[0m\u001b[0;34m**\u001b[0m\u001b[0mkwds\u001b[0m\u001b[0;34m)\u001b[0m\u001b[0;34m\u001b[0m\u001b[0;34m\u001b[0m\u001b[0m\n\u001b[0m\u001b[1;32m  11417\u001b[0m     \u001b[0;32mdef\u001b[0m \u001b[0m__commitchanges__1\u001b[0m\u001b[0;34m(\u001b[0m\u001b[0mself\u001b[0m\u001b[0;34m)\u001b[0m\u001b[0;34m:\u001b[0m\u001b[0;34m\u001b[0m\u001b[0;34m\u001b[0m\u001b[0m\n",
            "\u001b[0;32m/usr/local/lib/python3.11/dist-packages/mosek/__init__.py\u001b[0m in \u001b[0;36m__optimizetrm__1\u001b[0;34m(self)\u001b[0m\n\u001b[1;32m  11404\u001b[0m         \u001b[0m_\u001b[0m\u001b[0;34m,\u001b[0m\u001b[0m_msg_optimizetrm\u001b[0m \u001b[0;34m=\u001b[0m \u001b[0mself\u001b[0m\u001b[0;34m.\u001b[0m\u001b[0m__getlasterror\u001b[0m\u001b[0;34m(\u001b[0m\u001b[0m_res_optimizetrm\u001b[0m\u001b[0;34m)\u001b[0m\u001b[0;34m\u001b[0m\u001b[0;34m\u001b[0m\u001b[0m\n\u001b[0;32m> 11405\u001b[0;31m         \u001b[0;32mraise\u001b[0m \u001b[0mError\u001b[0m\u001b[0;34m(\u001b[0m\u001b[0mrescode\u001b[0m\u001b[0;34m(\u001b[0m\u001b[0m_res_optimizetrm\u001b[0m\u001b[0;34m)\u001b[0m\u001b[0;34m,\u001b[0m\u001b[0m_msg_optimizetrm\u001b[0m\u001b[0;34m)\u001b[0m\u001b[0;34m\u001b[0m\u001b[0;34m\u001b[0m\u001b[0m\n\u001b[0m\u001b[1;32m  11406\u001b[0m       \u001b[0;32melse\u001b[0m\u001b[0;34m:\u001b[0m\u001b[0;34m\u001b[0m\u001b[0;34m\u001b[0m\u001b[0m\n",
            "\u001b[0;31mError\u001b[0m: rescode.err_missing_license_file(1008): License cannot be located. The default search path is ':/content/mosek.lic:/root/mosek/mosek.lic:'.\n",
            "\nDuring handling of the above exception, another exception occurred:\n",
            "\u001b[0;31mOptimizeError\u001b[0m                             Traceback (most recent call last)",
            "\u001b[0;32m<ipython-input-8-7b0f54452083>\u001b[0m in \u001b[0;36m<cell line: 0>\u001b[0;34m()\u001b[0m\n\u001b[1;32m      1\u001b[0m \u001b[0;31m# Run optimization\u001b[0m\u001b[0;34m\u001b[0m\u001b[0;34m\u001b[0m\u001b[0m\n\u001b[0;32m----> 2\u001b[0;31m \u001b[0mf\u001b[0m\u001b[0;34m,\u001b[0m \u001b[0mx\u001b[0m \u001b[0;34m=\u001b[0m \u001b[0mMarkowitz\u001b[0m\u001b[0;34m(\u001b[0m\u001b[0mN\u001b[0m\u001b[0;34m,\u001b[0m \u001b[0mmu\u001b[0m\u001b[0;34m,\u001b[0m \u001b[0mG\u001b[0m\u001b[0;34m,\u001b[0m \u001b[0mgamma2\u001b[0m\u001b[0;34m)\u001b[0m\u001b[0;34m\u001b[0m\u001b[0;34m\u001b[0m\u001b[0m\n\u001b[0m\u001b[1;32m      3\u001b[0m \u001b[0mprint\u001b[0m\u001b[0;34m(\u001b[0m\u001b[0;34m\"========================\\n\"\u001b[0m\u001b[0;34m)\u001b[0m\u001b[0;34m\u001b[0m\u001b[0;34m\u001b[0m\u001b[0m\n\u001b[1;32m      4\u001b[0m \u001b[0mprint\u001b[0m\u001b[0;34m(\u001b[0m\u001b[0;34m\"RESULTS:\"\u001b[0m\u001b[0;34m)\u001b[0m\u001b[0;34m\u001b[0m\u001b[0;34m\u001b[0m\u001b[0m\n\u001b[1;32m      5\u001b[0m \u001b[0mprint\u001b[0m\u001b[0;34m(\u001b[0m\u001b[0;34mf\"Optimal expected portfolio return: {f*100:.4f}%\"\u001b[0m\u001b[0;34m)\u001b[0m\u001b[0;34m\u001b[0m\u001b[0;34m\u001b[0m\u001b[0m\n",
            "\u001b[0;32m<ipython-input-5-f4f394722abb>\u001b[0m in \u001b[0;36mMarkowitz\u001b[0;34m(N, m, G, gamma2)\u001b[0m\n\u001b[1;32m     19\u001b[0m \u001b[0;34m\u001b[0m\u001b[0m\n\u001b[1;32m     20\u001b[0m         \u001b[0;31m# Solve optimization\u001b[0m\u001b[0;34m\u001b[0m\u001b[0;34m\u001b[0m\u001b[0m\n\u001b[0;32m---> 21\u001b[0;31m         \u001b[0mM\u001b[0m\u001b[0;34m.\u001b[0m\u001b[0msolve\u001b[0m\u001b[0;34m(\u001b[0m\u001b[0;34m)\u001b[0m\u001b[0;34m\u001b[0m\u001b[0;34m\u001b[0m\u001b[0m\n\u001b[0m\u001b[1;32m     22\u001b[0m \u001b[0;34m\u001b[0m\u001b[0m\n\u001b[1;32m     23\u001b[0m         \u001b[0;31m# Check if the solution is an optimal point\u001b[0m\u001b[0;34m\u001b[0m\u001b[0;34m\u001b[0m\u001b[0m\n",
            "\u001b[0;32m/usr/local/lib/python3.11/dist-packages/mosek/fusion/impl/_implementation.py\u001b[0m in \u001b[0;36msolve\u001b[0;34m(self, *args)\u001b[0m\n\u001b[1;32m   6360\u001b[0m     \u001b[0;32mif\u001b[0m \u001b[0;32mFalse\u001b[0m\u001b[0;34m:\u001b[0m \u001b[0;32mpass\u001b[0m\u001b[0;34m\u001b[0m\u001b[0;34m\u001b[0m\u001b[0m\n\u001b[1;32m   6361\u001b[0m     \u001b[0;32melif\u001b[0m \u001b[0mmosek_fusion_Model\u001b[0m\u001b[0;34m.\u001b[0m\u001b[0m_match_solve_\u001b[0m\u001b[0;34m(\u001b[0m\u001b[0;34m*\u001b[0m\u001b[0margs\u001b[0m\u001b[0;34m)\u001b[0m\u001b[0;34m:\u001b[0m\u001b[0;34m\u001b[0m\u001b[0;34m\u001b[0m\u001b[0m\n\u001b[0;32m-> 6362\u001b[0;31m       \u001b[0;32mreturn\u001b[0m \u001b[0mself\u001b[0m\u001b[0;34m.\u001b[0m\u001b[0m_solve_\u001b[0m\u001b[0;34m(\u001b[0m\u001b[0;34m*\u001b[0m\u001b[0margs\u001b[0m\u001b[0;34m)\u001b[0m\u001b[0;34m\u001b[0m\u001b[0;34m\u001b[0m\u001b[0m\n\u001b[0m\u001b[1;32m   6363\u001b[0m     \u001b[0;32melif\u001b[0m \u001b[0mmosek_fusion_Model\u001b[0m\u001b[0;34m.\u001b[0m\u001b[0m_match_alt_solve_\u001b[0m\u001b[0;34m(\u001b[0m\u001b[0;34m*\u001b[0m\u001b[0margs\u001b[0m\u001b[0;34m)\u001b[0m\u001b[0;34m:\u001b[0m\u001b[0;34m\u001b[0m\u001b[0;34m\u001b[0m\u001b[0m\n\u001b[1;32m   6364\u001b[0m       \u001b[0;32mreturn\u001b[0m \u001b[0mself\u001b[0m\u001b[0;34m.\u001b[0m\u001b[0m_solve_alt_\u001b[0m\u001b[0;34m(\u001b[0m\u001b[0;34m*\u001b[0m\u001b[0margs\u001b[0m\u001b[0;34m)\u001b[0m\u001b[0;34m\u001b[0m\u001b[0;34m\u001b[0m\u001b[0m\n",
            "\u001b[0;32m/usr/local/lib/python3.11/dist-packages/mosek/fusion/impl/_implementation.py\u001b[0m in \u001b[0;36m_solve_\u001b[0;34m(self)\u001b[0m\n\u001b[1;32m   8847\u001b[0m    \u001b[0mself\u001b[0m\u001b[0;34m.\u001b[0m\u001b[0m_flushSolutions_\u001b[0m\u001b[0;34m(\u001b[0m\u001b[0;34m)\u001b[0m\u001b[0;34m\u001b[0m\u001b[0;34m\u001b[0m\u001b[0m\n\u001b[1;32m   8848\u001b[0m    \u001b[0mself\u001b[0m\u001b[0;34m.\u001b[0m\u001b[0m__flush_1parameters_\u001b[0m\u001b[0;34m(\u001b[0m\u001b[0;34m)\u001b[0m\u001b[0;34m\u001b[0m\u001b[0;34m\u001b[0m\u001b[0m\n\u001b[0;32m-> 8849\u001b[0;31m    \u001b[0mself\u001b[0m\u001b[0;34m.\u001b[0m\u001b[0m_task_1solve_ZSS\u001b[0m\u001b[0;34m(\u001b[0m\u001b[0;32mFalse\u001b[0m\u001b[0;34m,\u001b[0m\u001b[0;34m\"\"\u001b[0m\u001b[0;34m,\u001b[0m\u001b[0;34m\"\"\u001b[0m\u001b[0;34m)\u001b[0m\u001b[0;34m\u001b[0m\u001b[0;34m\u001b[0m\u001b[0m\n\u001b[0m\u001b[1;32m   8850\u001b[0m    \u001b[0mself\u001b[0m\u001b[0;34m.\u001b[0m\u001b[0m_task_1post_1solve_\u001b[0m\u001b[0;34m(\u001b[0m\u001b[0;34m)\u001b[0m\u001b[0;34m\u001b[0m\u001b[0;34m\u001b[0m\u001b[0m\n\u001b[1;32m   8851\u001b[0m   \u001b[0;32mdef\u001b[0m \u001b[0m__flush_1parameters_alt_\u001b[0m\u001b[0;34m(\u001b[0m\u001b[0mself\u001b[0m\u001b[0;34m,\u001b[0m\u001b[0;34m)\u001b[0m\u001b[0;34m:\u001b[0m\u001b[0;34m\u001b[0m\u001b[0;34m\u001b[0m\u001b[0m\n",
            "\u001b[0;32m/usr/local/lib/python3.11/dist-packages/mosek/fusion/impl/_implementation.py\u001b[0m in \u001b[0;36m_task_1solve_ZSS\u001b[0;34m(self, remote, server, port)\u001b[0m\n\u001b[1;32m   5503\u001b[0m           \u001b[0mok\u001b[0m \u001b[0;34m=\u001b[0m \u001b[0;32mTrue\u001b[0m\u001b[0;34m\u001b[0m\u001b[0;34m\u001b[0m\u001b[0m\n\u001b[1;32m   5504\u001b[0m         \u001b[0;32mexcept\u001b[0m \u001b[0mmosek\u001b[0m\u001b[0;34m.\u001b[0m\u001b[0mError\u001b[0m \u001b[0;32mas\u001b[0m \u001b[0me\u001b[0m\u001b[0;34m:\u001b[0m\u001b[0;34m\u001b[0m\u001b[0;34m\u001b[0m\u001b[0m\n\u001b[0;32m-> 5505\u001b[0;31m           \u001b[0;32mraise\u001b[0m \u001b[0mmosek_fusion_OptimizeError\u001b[0m\u001b[0;34m(\u001b[0m\u001b[0mstr\u001b[0m\u001b[0;34m(\u001b[0m\u001b[0me\u001b[0m\u001b[0;34m)\u001b[0m\u001b[0;34m)\u001b[0m\u001b[0;34m\u001b[0m\u001b[0;34m\u001b[0m\u001b[0m\n\u001b[0m\u001b[1;32m   5506\u001b[0m       \u001b[0;32mfinally\u001b[0m\u001b[0;34m:\u001b[0m\u001b[0;34m\u001b[0m\u001b[0;34m\u001b[0m\u001b[0m\n\u001b[1;32m   5507\u001b[0m         \u001b[0;32mif\u001b[0m \u001b[0;32mnot\u001b[0m \u001b[0mok\u001b[0m\u001b[0;34m:\u001b[0m \u001b[0;31m# means exception, post-solve won't be called\u001b[0m\u001b[0;34m\u001b[0m\u001b[0;34m\u001b[0m\u001b[0m\n",
            "\u001b[0;31mOptimizeError\u001b[0m: rescode.err_missing_license_file(1008): License cannot be located. The default search path is ':/content/mosek.lic:/root/mosek/mosek.lic:'.\n"
          ]
        }
      ],
      "source": [
        "# Run optimization\n",
        "f, x = Markowitz(N, mu, G, gamma2)\n",
        "print(\"========================\\n\")\n",
        "print(\"RESULTS:\")\n",
        "print(f\"Optimal expected portfolio return: {f*100:.4f}%\")\n",
        "print(f\"Optimal portfolio weights: {x}\")\n",
        "print(f\"Sum of weights: {np.sum(x)}\")"
      ]
    },
    {
      "cell_type": "markdown",
      "metadata": {
        "id": "ko7tCgsbi0t8"
      },
      "source": [
        "# Test result"
      ]
    },
    {
      "cell_type": "code",
      "execution_count": null,
      "metadata": {
        "scrolled": true,
        "id": "JaVe8XuHi0t8"
      },
      "outputs": [],
      "source": [
        "expected_x = np.array([0., 0.09126, 0.26911, 0., 0.02531, 0.32162, 0.17652, 0.11618])\n",
        "diff = np.sum(np.abs(expected_x - x))\n",
        "assert diff < 1e-4, f\"Resulting portfolio does not match expected one. Difference is {diff}\""
      ]
    }
  ],
  "metadata": {
    "kernelspec": {
      "display_name": "Python 3 (ipykernel)",
      "language": "python",
      "name": "python3"
    },
    "language_info": {
      "codemirror_mode": {
        "name": "ipython",
        "version": 3
      },
      "file_extension": ".py",
      "mimetype": "text/x-python",
      "name": "python",
      "nbconvert_exporter": "python",
      "pygments_lexer": "ipython3",
      "version": "3.9.7"
    },
    "colab": {
      "provenance": []
    }
  },
  "nbformat": 4,
  "nbformat_minor": 0
}